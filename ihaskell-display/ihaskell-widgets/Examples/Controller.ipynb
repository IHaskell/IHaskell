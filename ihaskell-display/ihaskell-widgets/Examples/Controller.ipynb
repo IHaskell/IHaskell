{
 "cells": [
  {
   "cell_type": "markdown",
   "id": "6513368f-ebd6-4c00-b69b-7004c3189fc6",
   "metadata": {},
   "source": [
    "## Controller widgets\n",
    "\n",
    "I'm sorry, but this widget is still Work In Progress"
   ]
  },
  {
   "cell_type": "code",
   "execution_count": 1,
   "id": "1db1ebee-6896-4a92-9a9c-4d0c0e2fef34",
   "metadata": {},
   "outputs": [
    {
     "data": {
      "application/vnd.jupyter.widget-view+json": {
       "model_id": "a8c7a01e-8962-4053-8726-1053e239a887",
       "version_major": 2,
       "version_minor": 0
      }
     },
     "metadata": {},
     "output_type": "display_data"
    }
   ],
   "source": [
    "{-# LANGUAGE OverloadedStrings #-}\n",
    "controller <- mkController\n",
    "setField @Index controller 0\n",
    "controller"
   ]
  },
  {
   "cell_type": "code",
   "execution_count": null,
   "id": "463d9488-8941-4e4a-aa47-83ba2f879368",
   "metadata": {},
   "outputs": [
    {
     "data": {
      "text/plain": [
       "False"
      ]
     },
     "metadata": {},
     "output_type": "display_data"
    },
    {
     "data": {
      "text/plain": []
     },
     "metadata": {},
     "output_type": "display_data"
    },
    {
     "data": {
      "text/plain": [
       "0.0"
      ]
     },
     "metadata": {},
     "output_type": "display_data"
    },
    {
     "data": {
      "text/plain": []
     },
     "metadata": {},
     "output_type": "display_data"
    }
   ],
   "source": [
    "getField @Connected controller\n",
    "getField @Name controller\n",
    "getField @Timestamp controller\n",
    "getField @Mapping controller\n",
    "getField @Buttons controller"
   ]
  },
  {
   "cell_type": "code",
   "execution_count": null,
   "id": "732903f0-b50b-4714-b63d-65e54ac2c3c1",
   "metadata": {},
   "outputs": [],
   "source": []
  }
 ],
 "metadata": {
  "kernelspec": {
   "display_name": "Haskell",
   "language": "haskell",
   "name": "haskell"
  },
  "language_info": {
   "codemirror_mode": "ihaskell",
   "file_extension": ".hs",
   "mimetype": "text/x-haskell",
   "name": "haskell",
   "pygments_lexer": "Haskell",
   "version": "9.8.2"
  }
 },
 "nbformat": 4,
 "nbformat_minor": 5
}
