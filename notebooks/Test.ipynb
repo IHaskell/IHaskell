{
 "metadata": {
  "language": "haskell",
  "name": ""
 },
 "nbformat": 3,
 "nbformat_minor": 0,
 "worksheets": [
  {
   "cells": [
    {
     "cell_type": "code",
     "collapsed": false,
     "input": [
      "import IHaskell.Display (IHaskellDisplay(..))\n",
      "import qualified Data.ByteString as B\n",
      "B.readFile \"code/IHaskell/images/ihaskell-notebook.png\""
     ],
     "language": "python",
     "metadata": {},
     "outputs": [
      {
       "html": [
        "<span class='err-msg'>Not in scope: `IHaskell.Display.serializeDisplay'</span>"
       ],
       "metadata": {},
       "output_type": "display_data",
       "text": [
        "Not in scope: `IHaskell.Display.serializeDisplay'"
       ]
      }
     ],
     "prompt_number": 1
    },
    {
     "cell_type": "code",
     "collapsed": false,
     "input": [
      ":opt svg\n",
      ":ext OverloadedStrings"
     ],
     "language": "python",
     "metadata": {},
     "outputs": []
    },
    {
     "cell_type": "code",
     "collapsed": false,
     "input": [
      "{-# LANGUAGE OverloadedStrings #-}\n",
      "import Graphics.Rendering.Chart\n",
      "import Data.Default.Class\n",
      "import Control.Lens\n",
      "import Graphics.Rendering.Chart.Backend.Cairo\n",
      "\n",
      "\n",
      "import Data.Colour\n",
      "import Data.Colour.Names\n",
      "\n",
      "xvals = [1.5, 2.5, 5, 8 :: Double ]\n",
      "yvals = [0.025, 0.1, 9, 230 :: Double ]\n",
      "\n",
      "xlvals = map LogValue xvals\n",
      "ylvals = map LogValue yvals\n",
      "\n",
      "-- | Connect the points (xs,ys) with a solid\n",
      "--   line using the given color.\n",
      "lineXY :: (PlotValue a, PlotValue b) => Colour Double -> [a] -> [b] -> Plot a b\n",
      "lineXY col xs ys = toPlot p\n",
      "    where\n",
      "        p = plot_lines_style .~ solidLine 1 (opaque col)\n",
      "            $ plot_lines_values .~ [zip xs ys]\n",
      "            $ def\n",
      "\n",
      "-- | Draw symbols at the points (xs,ys).\n",
      "--\n",
      "symbolXY ::\n",
      "    (PlotValue a, PlotValue b) =>\n",
      "    (AlphaColour Double -> PointStyle)\n",
      "    -> Colour Double \n",
      "    -> [a] \n",
      "    -> [b] \n",
      "    -> Plot a b\n",
      "symbolXY sym col xs ys = toPlot p\n",
      "    where\n",
      "        p = plot_points_style .~ sym (opaque col)\n",
      "            $ plot_points_values .~ zip xs ys\n",
      "            $ def\n",
      "\n",
      "asCircle = filledCircles 10\n",
      "asStar = stars 10 2\n",
      "\n",
      "-- | This function will plot the given function of x over the list of xs.\n",
      "plotIt :: \n",
      "  (PlotValue a, PlotValue b) =>\n",
      "  (Colour Double -> [a] -> [b] -> Plot a b)\n",
      "  -> [a]\n",
      "  -> [b]\n",
      "  -> Renderable ()\n",
      "\n",
      "plotIt plotType xs ys = toRenderable l\n",
      "    where\n",
      "        l = layout_title .~ \"Plot\"\n",
      "            $ layout_plots .~ [ plotType blue xs ys ]\n",
      "            $ def\n",
      "\n",
      "let r = plotIt (symbolXY asCircle) xvals yvals\n",
      "let r'= plotIt (symbolXY asStar) xlvals ylvals"
     ],
     "language": "python",
     "metadata": {},
     "outputs": [],
     "prompt_number": 1
    },
    {
     "cell_type": "code",
     "collapsed": false,
     "input": [
      "import IHaskell.Display (serializeDisplay, display)"
     ],
     "language": "python",
     "metadata": {},
     "outputs": [],
     "prompt_number": 4
    },
    {
     "cell_type": "code",
     "collapsed": false,
     "input": [
      "r\n",
      "r'"
     ],
     "language": "python",
     "metadata": {},
     "outputs": [
      {
       "html": [
        "<div class='collapse-group'><span class='btn' href='#' id='unshowable'>Unshowable:<span class='show-type'>Renderable ()</span></span><span class='err-msg collapse'>No instance for (Show (Renderable ())) arising from a use of `print'<br/>Possible fix: add an instance declaration for (Show (Renderable ()))<br/>In a stmt of an interactive GHCi command: print it</span></div><script>$('#unshowable').on('click', function(e) {\n",
        "    e.preventDefault();\n",
        "    var $this = $(this);\n",
        "    var $collapse = $this.closest('.collapse-group').find('.err-msg');\n",
        "    $collapse.collapse('toggle');\n",
        "});\n",
        "</script>"
       ],
       "metadata": {},
       "output_type": "display_data",
       "text": [
        "No instance for (Show (Renderable ())) arising from a use of `print'\n",
        "Possible fix: add an instance declaration for (Show (Renderable ()))\n",
        "In a stmt of an interactive GHCi command: print it"
       ]
      }
     ],
     "prompt_number": 5
    },
    {
     "cell_type": "code",
     "collapsed": false,
     "input": [],
     "language": "python",
     "metadata": {},
     "outputs": []
    }
   ],
   "metadata": {}
  }
 ]
}