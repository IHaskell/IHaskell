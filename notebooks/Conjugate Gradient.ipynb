{
 "metadata": {
  "language": "haskell",
  "name": "",
  "signature": "sha256:8332eed5b1a2647ecfe6b707d1d07de0e8798861c517cac876970de5eb31e43c"
 },
 "nbformat": 3,
 "nbformat_minor": 0,
 "worksheets": [
  {
   "cells": [
    {
     "cell_type": "markdown",
     "metadata": {},
     "source": [
      "In the previous notebook, we set up a framework for doing gradient-based minimization of differentiable functions (via the `GradientDescent` typeclass) and implemented simple gradient descent for univariate functions. Next, let's try to extend this framework to a faster method such as nonlinear Conjugate Gradient, and see what modifications we'll need to make in order to accomodate it.\n",
      "$\\newcommand\\vector[1]{\\langle #1 \\rangle}\\newcommand\\p[2]{\\frac{\\partial #1}{\\partial #2}}\\newcommand\\R{\\mathbb{R}}$"
     ]
    },
    {
     "cell_type": "markdown",
     "metadata": {},
     "source": [
      "Conjugate Gradient\n",
      "===\n",
      "Before diving in to Haskell, let's go over exactly what the conjugate gradient method is and why it works. The \"normal\" conjugate gradient method is a method for solving systems of linear equations. However, this extends to a method for minimizing quadratic functions, which we can subsequently generalize to minimizing arbitrary functions $f\\!:\\!\\R^n \\to \\R$. We will start by going over the conjugate gradient method of minimizing quadratic functions, and later generalize.\n",
      "\n",
      "Suppose we have some quadratic function\n",
      "$$f(x) = \\frac{1}{2}x^T A x + b^T x + c$$\n",
      "for $x \\in \\R^n$ with $A \\in \\R^{n \\times n}$ and  $b, c \\in \\R^n$.\n",
      "\n",
      "We can write any quadratic function in this form, as this generates all the coefficients $x_ix_j$ as well as linear and constant terms. In addition, we can assume that $A = A^T$ ($A$ is symmetric). (If it were not, we could just rewrite this with a symmetric $A$, since we could take the term for $x_i x_j$ and the term for $x_j x_i$, sum them, and then have $A_{ij} = A_{ji}$ both be half of this sum.)\n",
      "\n",
      "Taking the gradient of $f$, we obtain\n",
      "$$\\nabla f(x) = A x + b,$$\n",
      "which you can verify by writing out the terms in summation notation.\n",
      "\n",
      "If we evaluate $-\\nabla f$ at any given location, it will give us a vector pointing towards the direction of steepest descent. This gives us a natural way to start our algorithm - pick some initial guess $x_0$, compute the gradient $-\\nabla f(x_0)$, and move in that direction by some step size $\\alpha$. Unlike normal gradient descent, however, we do not have a fixed step size $\\alpha$ - instead, we perform a line search in order to find the *best* $\\alpha$. This $\\alpha$ is the value of $\\alpha$ which brings us to the minimum of $f$ if we are constrainted to move in the direction given by $d_0 = -\\nabla f(x_0)$.\n",
      "\n",
      "Note that computing $\\alpha$ is equivalent to minimizing the function\n",
      "$$\\begin{align*}\n",
      "g(\\alpha) &= f(x_0 + \\alpha d_0) \\\\\n",
      "&= \\frac{1}{2}(x_0 + \\alpha d_0)^T A (x_0 + \\alpha d_0) + b^T (x_0 + \\alpha d_0) + c\\\\\n",
      "&= \\frac{1}{2}\\alpha^2 {d_0}^T A d_0 + {d_0}^T (A x_0 + b) \\alpha + (\\frac{1}{2} {x_0}^T A x_0 + {x_0}^T d_0 + c)\n",
      "\\end{align*}$$\n",
      "Since this is a quadratic function in $\\alpha$, it has a unique global minimum or maximum. Since we assume we are not at the minimum and not at a saddle point of $f$, we assume that it has a minimum. \n",
      "\n",
      "The minimum of this function occurs when $g'(\\alpha) = 0$, that is, when\n",
      "$$g'(\\alpha) = ({d_i}^T A {d_i})\\alpha + {d_i}^T(A x_i + b) = 0.$$\n",
      "\n",
      "Solving this for $\\alpha$, we find that the minimum is at\n",
      "$$\\alpha = -\\frac{{d_i}^T (A x_i + b)}{{d_i}^T A d_i}.$$\n",
      "\n",
      "Note that since the directon is the negative of the gradient, a.k.a. the direction of steepest descent, $\\alpha$ will be non-negative. These first steps give us our second point in our iterative algorithm:\n",
      "$$x_1 = x_0 - \\alpha \\nabla f(x_0)$$\n",
      "\n",
      "If this were simple gradient descent, we would iterate this procedure, computing the gradient at each next point and moving in that direction. However, this has a problem - by moving $\\alpha_0$ in direction $d_0$ (to find the minimum in direction $d_0$) and then moving $\\alpha_1$ in direction $d_1$, we may *ruin* our work from the previous iteration, so that we are no longer at a minimum in direction $d_0$. In order to rectify this, we require that our directions be *conjugate* to one another.\n",
      "\n",
      "We define two vectors $x$ and $y$ to be conjugate with respect to some semi-definite matrix $A$ if $x^T A y = 0$. (Semi-definite matrices are ones where $x^T A x \\ge 0$ for all $x$, and are what we require for conjugate gradient.)\n",
      "\n",
      "Since we have already moved in the $d_0 = -\\nabla f(x_0)$ direction, we must find a new direction $d_1$ to move in that is conjugate to $d_0$. How do we do this? Well, let's compute $d_1$ by starting with the gradient at $x_1$ and then subtracting off anything that would counter-act the previous direction:\n",
      "$$d_1 = -\\nabla f(x_1) + \\beta_0 d_0.$$\n",
      "\n",
      "This leaves us with the obvious question - what is $\\beta_0$? We can derive that from our definition of conjugacy. Since $d_0$ and $d_1$ must be conjugate, we know that ${d_1}^T A d_0 = 0$. Expanding $d_1$ by using its definition, we get that ${d_1}^T A d_0 = -\\nabla f(x_1)^TAd_0 + \\beta_0 {d_0}^TA d_0 = 0$. Therefore, we must choose $\\beta_0$ such that\n",
      "$$\\beta_0 = \\frac{\\nabla f(x_1)^T A d_0}{{d_0}^T A d_0}.$$\n",
      "\n",
      "Choosing this $\\beta$ gives us a direction conjugate to all previous directions. Interestingly enough, iterating this will *keep* giving us conjugate directions. After generating each direction, we find the best $\\alpha$ for that direction and update the current estimate of position.\n",
      "\n",
      "Thus, the full Conjugate Gradient algorithm for quadratic functions:\n",
      "\n",
      "> Let $f$ be a quadratic function $f(x) = \\frac{1}{2}x^T A x + b^T x + c$\n",
      "which we wish to minimize.\n",
      "> 1. **Initialize:** \n",
      "Let $i = 0$ and $x_i = x_0$ be our initial guess, and compute $d_i = d_0 = -\\nabla f(x_0)$.\n",
      "> \n",
      "> 2. **Find best step size:**\n",
      "Compute $\\alpha$ to minimize the function $f(x_i + \\alpha d_i)$ via the equation\n",
      "$$\\alpha = -\\frac{{d_i}^T (A x_i + b)}{{d_i}^T A d_i}.$$\n",
      "> \n",
      "> 3. **Update the current guess:**\n",
      "Let $x_{i+1} = x_i + \\alpha d_i$.\n",
      ">\n",
      "> 4. **Update the direction:**\n",
      "Let $d_{i+1} = -\\nabla f(x_{i+1}) + \\beta_i d_i$ where $\\beta_i$ is given by\n",
      "$$\\beta_i = \\frac{\\nabla f(x_{i+1})^T A d_i}{{d_i}^T A d_i}.$$\n",
      ">\n",
      "> 5. **Iterate:** Repeat steps 2-4 until we have looked in $n$ directions, where $n$ is the size of your vector space (the dimension of $x$)."
     ]
    },
    {
     "cell_type": "markdown",
     "metadata": {},
     "source": [
      "Nonlinear Conjugate Gradient\n",
      "---\n",
      "So, now that we've derived this for quadratic functions, how are we going to use this for general nonlinear optimization of differentiable functions? To do this, we're going to reformulate the above algorithm in *slightly* more general terms.\n",
      "\n",
      "First of all, we will revise step two. Instead of \n",
      "\n",
      "> **Find best step size:**\n",
      "Compute $\\alpha$ to minimize the function $f(x_i + \\alpha d_i)$ via the equation\n",
      "$$\\alpha = -\\frac{{d_i}^T (A x_i + b)}{{d_i}^T A d_i}.$$\n",
      "\n",
      "we will simply use a line search:\n",
      "\n",
      "> **Find best step size:**\n",
      "Compute $\\alpha$ to minimize the function $f(x_i + \\alpha d_i)$ via a line search in the direction $d_i$.\n",
      "\n",
      "In addition, we must reformulate the computation of $\\beta_i$. There are several ways to do this, all of which are the same in the quadratic case but are different in the general nonlinear case. We reformulate this computation by generalizing. Note that the difference between $x_{k+1}$ and $x_k$ is entirely in the direction $d_k$, so that for some constant $c$, $x_{k+1} - x_k = c d_k$. Since $\\nabla f(x) = A x + b$, \n",
      "$$ \\nabla f(x_{k+1}) - \\nabla f(x_k) = (A x_{k+1} + b) - (A x_k + b) = A(x_{k+1}-x_k) = cA d_k.$$\n",
      "\n",
      "Therefore, $A d_k = c^{-1} (\\nabla f(x_{k+1}) - \\nabla f(x_k))$. We can now plug this in to the equation for $\\beta_i$ and obtain\n",
      "$$\\beta_k = \\frac{\\nabla f(x_{k+1})^T (\\nabla f(x_{k+1}) - \\nabla f(x_k))}{{d_k}^T (\\nabla f(x_{k+1}) - \\nabla f(x_k))}.$$\n",
      "\n",
      "Conveniently enough, the value of $c$ cancels, as it is both in the numerator and denominator. This gives us the new update rule:\n",
      "\n",
      "> **Update the direction:**\n",
      "Let $d_{k+1} = -\\nabla f(x_{k+1}) + \\beta_k d_k$ where $\\beta_k$ is given by\n",
      "$$\\beta_k = \\frac{\\nabla f(x_{k+1})^T (\\nabla f(x_{k+1}) - \\nabla f(x_k))}{{d_k}^T (\\nabla f(x_{k+1}) - \\nabla f(x_k))}.$$\n",
      "\n",
      "We can now apply this algorithm to any nonlinear and differentiable function! This reformulation of $\\beta$ is known as the Polak-Ribiere method; know that there are others, similar in form and also in use."
     ]
    },
    {
     "cell_type": "markdown",
     "metadata": {},
     "source": [
      "Line Search\n",
      "---\n",
      "The one remaining bit of this process that we haven't covered is step two: the line search. As you can see above, we are given a point $x$, some vector $v$, and a multivariate function $f\\!:\\!\\R^n \\to \\R$, and we wish to find the $\\alpha$ which minimizes $f(x + \\alpha v)$. Note that a line search can be viewed simply as root finding, since we know that $v \\cdot \\nabla f(x + \\alpha v)$ should be zero at the minimum. (Since if it were non-zero, we could move from that minimum to a better location.)\n",
      "\n",
      "There are many ways to do this line search, and they can range from relatively simple linear methods (like the [secant method](http://en.wikipedia.org/wiki/Secant_method)) to more complex (using quadratic or cubic polynomial approximations). \n",
      "\n",
      "One simple method for a line search is known as the **bisection method**. The bisection method is simply a binary search. To minimize a univariate function $g(x)$, it begins with two points, $a$ and $b$, such that $g(a)$ and $g(b)$ have opposite signs. By the intermediate value theorem, $g(x)$ must have a root in $[a, b]$. (Note that in our case, $g(\\alpha) = v \\cdot \\nabla f(x + \\alpha v)$.) It then computes their midpoint, $c = \\frac{a + b}{2}$, and evaluates the function $g$ to compute $g(c)$. If $g(a)$ and $g(c)$ have opposite signs, the root must be in $[a, c]$; if $g(c)$ and $g(b)$ have opposite signs, then $[c, b]$ must have the root. At this point, the method recurses, continuing its search until it has gotten close enough to the true $\\alpha$.\n",
      "\n",
      "Another simple method is known as the **secant method**. Like the bisection method, the secant method requires two initial points $a$ and $b$ such that $g(a)$ and $g(b)$ have opposite signs. However, instead of doing a simple binary search, it does linear interpolation. It finds the line between $(a, g(a))$ and $(b, g(b))$:\n",
      "$$g(x) \\approx \\frac{g(b) - g(a)}{b - a}(x - a) + g(a)$$\n",
      "\n",
      "It then finds the root of this linear approximation, setting $g(x) = 0$ and finding that the root is at\n",
      "$$\\frac{g(b) - g(a)}{b - a}(x - a) + g(a) = 0 \\implies x = a -\\frac{b - a}{g(b) - g(a)}g(a).$$ \n",
      "\n",
      "It then evaluates $g$ at this location $x$. As with the bisection method, if $g(x)$ and $g(a)$ have opposite signs, then the root is in $[a, x]$, and if $g(x)$ and $g(b)$ have opposite signs, the root must be in $[x, b]$. As before, root finding continues via iteration, until some stopping condition is reached.\n",
      "\n",
      "There are more line search methods, but the last one we will examine is one known as **Brent's method**. Brent's method is a combination of the secand method and the bisection method. Unlike the previous two methods, Brent's method keeps track of three points:\n",
      "\n",
      "- $a_k$: the current \"contrapoint\"\n",
      "- $b_k$: the current guess for the root\n",
      "- $b_{k-1}$: the previous guess for the root\n",
      "\n",
      "Brent's method then computes the two possible next values: $m$ (by using the bisection method) and $s$ (by using the secant method with $b_k$ and $b_{k-1}$). (On the very first iteration, $b_{k-1} = a_k$ and it uses the bisection method.) If the secant method result $s$ lies between $b_k$ and $m$, then let $b_{k+1} = s$; otherwise, let $b_{k+1} = m$.\n",
      "\n",
      "After $b_{k+1}$ is chosen, it is checked to for convergence. If the method has converged, iteration is stopped. If not, the method continues. A new contrapoint $a_{k+1}$ is chosen such that $b_{k+1}$ and $a_{k+1}$ have opposite signs. The two choices for $a_{k+1}$ are either for it to remain unchanged (stay $a_k$) or for it to become $b_k$ - the choice depends on the signs of the function values involved. Before repeating, the values of $f(a_k{+1})$ and $f(b_{k+1})$ are examined, and $b_{k+1}$ is swapped with $a_{k+1}$ if it has a higher function value. Finally, the method repeats with the new values of $a_k$, $b_k$, and $b_{k-1}$.\n",
      "\n",
      "Brent's method is effectively a heuristic method, but is nice in practice; it has the reliability of the bisection method and gains a boost of speed from its use of the secant method."
     ]
    },
    {
     "cell_type": "markdown",
     "metadata": {},
     "source": [
      "Implementation\n",
      "---\n",
      "\n",
      "Now that we've reviewed the conjugate gradient method, let's revise our previous gradient descent framework to so that we can implement conjugate gradient (using Brent's method for its line search).\n",
      "\n",
      "Recall that in the previous notebook, we defined a class that allowed us to do gradient descent on arbitrary function-like data types:"
     ]
    },
    {
     "cell_type": "code",
     "collapsed": false,
     "input": [
      "-- Extensions and imports we'll need later.\n",
      ":set -XTypeFamilies -XFlexibleContexts -XMultiParamTypeClasses -XDoAndIfThenElse -XFlexibleInstances\n",
      "import Control.Monad.Writer\n",
      "import Text.Printf"
     ],
     "language": "python",
     "metadata": {},
     "outputs": [],
     "prompt_number": 1
    },
    {
     "cell_type": "code",
     "collapsed": false,
     "input": [
      "class Monad m => GradientDescent m a where\n",
      "  -- Type to represent the parameter space.\n",
      "  data Params a :: *\n",
      "  \n",
      "  -- Compute the gradient at a location in parameter space.\n",
      "  grad :: a -> Params a -> m (Params a)\n",
      "  \n",
      "  -- Move in parameter space.\n",
      "  paramMove :: Double        -- Scaling factor.\n",
      "            -> Params a      -- Direction vector.\n",
      "            -> Params a      -- Original location.\n",
      "            -> m (Params a)  -- New location."
     ],
     "language": "python",
     "metadata": {},
     "outputs": [],
     "prompt_number": 2
    },
    {
     "cell_type": "markdown",
     "metadata": {},
     "source": [
      "This same class isn't going to work quite as nicely in this case, because we must be able to compute\n",
      "$$\\beta_k = \\frac{\\nabla f(x_{k+1})^T (\\nabla f(x_{k+1}) - \\nabla f(x_k))}{{d_k}^T (\\nabla f(x_{k+1}) - \\nabla f(x_k))}.$$\n",
      "\n",
      "Since both the gradients and the search directions are represented as vectors in the parameter space (`Param a`), we must be able to take the dot product of any two such vectors. We already have the capability to add and subtract them via `paramMove`, though.\n",
      "\n",
      "One option is to add something like `paramDot` to `GradientDescent`, and call it a day. One one hand, that is simple; on the other hand, it seems to conflate two independent notions - the ability to do gradient descent and the ability to use `Param a` as a vector space. Instead of doing that, we can require that the parameters form an inner product space:"
     ]
    },
    {
     "cell_type": "code",
     "collapsed": false,
     "input": [
      "-- We will call this a vector space, though the definition actually\n",
      "-- requires an inner product, since it requires an implementation of `dot`.\n",
      "class VectorSpace v where\n",
      "  -- Add two vectors in this inner product space.\n",
      "  add :: v -> v -> v\n",
      "  \n",
      "  -- Scale a vector.\n",
      "  scale :: Double -> v -> v\n",
      "  \n",
      "  -- Take the inner product of two vectors.\n",
      "  dot :: v -> v -> Double\n",
      "  \n",
      "  -- For convenience.\n",
      "  minus :: v -> v -> v\n",
      "  minus a b = add a (scale (-1) b)"
     ],
     "language": "python",
     "metadata": {},
     "outputs": [],
     "prompt_number": 3
    },
    {
     "cell_type": "markdown",
     "metadata": {},
     "source": [
      "Now, instead of requiring `GradientDescent` instances to provide `paramMove`, we'll just require that the parameters form a vector space:"
     ]
    },
    {
     "cell_type": "code",
     "collapsed": false,
     "input": [
      "class (Monad m, VectorSpace (Params a)) => GradientDescent m a where\n",
      "  -- Type to represent the parameter space.\n",
      "  data Params a :: *\n",
      "  \n",
      "  -- Compute the gradient at a location in parameter space.\n",
      "  grad :: a -> Params a -> m (Params a)"
     ],
     "language": "python",
     "metadata": {},
     "outputs": [],
     "prompt_number": 4
    },
    {
     "cell_type": "markdown",
     "metadata": {},
     "source": [
      "Great! Now we  start implementing these methods. In order to avoid spending too much time on line searches, let's just go with a simple bisection search for the time being.\n",
      "\n",
      "The implementation is pretty simple:"
     ]
    },
    {
     "cell_type": "code",
     "collapsed": false,
     "input": [
      "-- A point consisting of a value and the function at that value.\n",
      "-- The stopping condition is implemented as a function\n",
      "--   Point -> Point -> Bool\n",
      "-- That way, the stopping condition can decide based on convergence\n",
      "-- of the x-coordinate or of the function values.\n",
      "newtype Point = Point {unPt :: (Double, Double)}\n",
      "\n",
      "bisectionSearch :: Monad m\n",
      "                => (Double -> m Double)    -- What function f to find the root of\n",
      "                -> Double                 -- Starting point\n",
      "                -> Double                 -- Second starting point\n",
      "                -> (Point -> Point -> Bool) -- Whether to stop\n",
      "                -> m Double               -- Approximate root location.\n",
      "bisectionSearch f a b stop = do\n",
      "  let midpoint = (a + b) / 2\n",
      "  aValue <- f a\n",
      "  bValue <- f b\n",
      "  \n",
      "  -- Check if we're done with these two values.\n",
      "  if stop (Point (a, aValue)) (Point (b, bValue))\n",
      "  then \n",
      "    -- If we are, return their midpoint.\n",
      "    return midpoint\n",
      "  else do\n",
      "    -- If we're not done, change one of the values to the midpoint.\n",
      "    -- Keep the two values having opposite signs, though.\n",
      "    midvalue <- f midpoint\n",
      "    if signum midvalue /= signum aValue\n",
      "    then bisectionSearch f midpoint a stop\n",
      "    else bisectionSearch f midpoint b stop"
     ],
     "language": "python",
     "metadata": {},
     "outputs": [],
     "prompt_number": 5
    },
    {
     "cell_type": "markdown",
     "metadata": {},
     "source": [
      "Now that we have our line search implemented, we can go ahead and implement the actual conjugate gradient algorithm."
     ]
    },
    {
     "cell_type": "code",
     "collapsed": false,
     "input": [
      "newtype StopCondition m a = StopWhen (Params a -> Params a -> m Bool)\n",
      "\n",
      "conjugateGradient :: GradientDescent m a =>\n",
      "                     a                -- What to optimize.\n",
      "                  -> StopCondition m a -- When to stop.\n",
      "                  -> Params a          -- Initial point (x0).\n",
      "                  -> m (Params a)      -- Return: Location of minimum.\n",
      "conjugateGradient f (StopWhen stop) x0 = go x0 Nothing\n",
      "  where\n",
      "    go x prevDir = do\n",
      "      -- Compute the search direction\n",
      "      gradVec <- grad f x\n",
      "      let dir = case prevDir of\n",
      "            -- If we have no previous direction, just use the gradient\n",
      "            Nothing -> scale (-1) gradVec\n",
      "\n",
      "            -- If we have a previous direction, compute Beta and \n",
      "            -- then the conjugate direction in which to search.\n",
      "            Just (prevX, prevGrad, prevDir) ->\n",
      "              let diff = gradVec `minus` prevGrad\n",
      "                  numerator = gradVec `dot` diff\n",
      "                  denominator = prevDir `dot` diff\n",
      "                  beta = max 0 $ numerator / denominator in\n",
      "                scale beta prevDir `minus` gradVec\n",
      "\n",
      "      -- To minimize f(x + \\alpha d_k), we find the zero of\n",
      "      -- the dot product of the gradient and the direction\n",
      "      let lineVal alpha = do\n",
      "            let loc = x `add` scale alpha dir\n",
      "            gradient <- grad f loc\n",
      "            return $ gradient `dot` dir\n",
      "\n",
      "      -- Stop when alpha is close enough\n",
      "      let stopLineSearch p1 p2 = \n",
      "            let val1 = fst $ unPt p1\n",
      "                val2 = fst $ unPt p2 in\n",
      "              abs (val1 - val2) < 0.1\n",
      "\n",
      "      -- Find the best alpha value\n",
      "      alpha <- bisectionSearch lineVal 0 0.5 stopLineSearch\n",
      "\n",
      "      -- Compute the new location, and check if we want to continue iterating.\n",
      "      let xNew = x `add` scale alpha dir\n",
      "      shouldStop <- stop x xNew\n",
      "      if shouldStop\n",
      "        then return xNew\n",
      "        else go xNew $ Just (x, gradVec, dir)"
     ],
     "language": "python",
     "metadata": {},
     "outputs": [],
     "prompt_number": 6
    },
    {
     "cell_type": "markdown",
     "metadata": {},
     "source": [
      "Let's try this out on a two-variable function. Since we do a line search, doing a single-dimensional conjugate gradient would be pointless."
     ]
    },
    {
     "cell_type": "code",
     "collapsed": false,
     "input": [
      "-- We need FlexibleInstances for declarations like these!\n",
      "-- We must declare these instances together, because they have recursive dependencies on each other.\n",
      "instance VectorSpace (Params (Double -> Double -> Double)) where\n",
      "  add (Arg a b) (Arg x y) = Arg (a + x) (b + y)\n",
      "  dot (Arg a b) (Arg x y) = a * x + b * y\n",
      "  scale s (Arg a b) = Arg (s * a) (s * b)\n",
      "  \n",
      "-- In addition to our usual definition, let's log the number of function\n",
      "-- gradient evaluations using a Writer monad.\n",
      "instance GradientDescent (Writer [String]) (Double -> Double -> Double) where\n",
      "  -- The parameter for a function is just its argument.\n",
      "  data Params (Double -> Double -> Double) = Arg { x :: Double, y :: Double }\n",
      "\n",
      "  -- Use numeric differentiation for taking the gradient.\n",
      "  grad f (Arg x y) = do\n",
      "      let dx = f x y - f (x - epsilon) y\n",
      "          dy = f x y - f x (y - epsilon)\n",
      "          gradient = (dx / epsilon, dy / epsilon)\n",
      "      tell [ \"Gradient at\\t\" ++ show' (x, y) ++ \"\\tis\\t\" ++ show' gradient ]\n",
      "      return $ uncurry Arg gradient\n",
      "    where epsilon = 0.0001\n",
      "          show' (x, y) = printf \"%.5f, \\t%.5f  \" x y"
     ],
     "language": "python",
     "metadata": {},
     "outputs": [],
     "prompt_number": 7
    },
    {
     "cell_type": "markdown",
     "metadata": {},
     "source": [
      "We can define a function $f = x^2 + y^2 + 3$, which looks like this:\n",
      "\n",
      "![](data:image/jpeg;base64,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)"
     ]
    },
    {
     "cell_type": "markdown",
     "metadata": {},
     "source": [
      "This function has an obvious minimum at $f(0, 0) = 3$.\n",
      "\n",
      "Let's minimize this function using our conjugate gradient, and output the minimum and the gradient evaluation logs:"
     ]
    },
    {
     "cell_type": "code",
     "collapsed": false,
     "input": [
      "-- Create a stop condition that respects a given error tolerance.\n",
      "stopCondition f tolerance = StopWhen stop\n",
      "  where stop (Arg a b) (Arg x y) = do\n",
      "          Arg dx dy <- grad f (Arg x y)\n",
      "          return $ abs dx < tolerance  && abs dy < tolerance\n",
      "\n",
      "-- A demo function with minimum at (0, 0)\n",
      "function x y = x^2 + y^2 + 3\n",
      "\n",
      "-- Note that we don't need to set an alpha!\n",
      "let tolerance = 1e-2\n",
      "let initValue = Arg 3 2\n",
      "let writer = conjugateGradient function (stopCondition function tolerance) initValue\n",
      "    (minLoc, messages) = runWriter writer :: (Params (Double -> Double -> Double), [String])\n",
      "\n",
      "printf \"Min at x = %.5f, y = %.5f\\n\" (x minLoc) (y minLoc)\n",
      "mapM_ putStrLn (take 10 messages)\n",
      "printf \"... and so on ... (%d evaluations)\\n\" $ length messages"
     ],
     "language": "python",
     "metadata": {},
     "outputs": [
      {
       "metadata": {},
       "output_type": "display_data",
       "text": [
        "Min at x = 0.00078, y = 0.00054"
       ]
      },
      {
       "metadata": {},
       "output_type": "display_data",
       "text": [
        "Gradient at\t3.00000, \t2.00000  \tis\t5.99990, \t3.99990  \n",
        "Gradient at\t3.00000, \t2.00000  \tis\t5.99990, \t3.99990  \n",
        "Gradient at\t0.00005, \t0.00005  \tis\t-0.00000, \t0.00000  \n",
        "Gradient at\t1.50002, \t1.00002  \tis\t2.99995, \t1.99995  \n",
        "Gradient at\t1.50002, \t1.00002  \tis\t2.99995, \t1.99995  \n",
        "Gradient at\t0.00005, \t0.00005  \tis\t-0.00000, \t0.00000  \n",
        "Gradient at\t0.75004, \t0.50004  \tis\t1.49997, \t0.99998  \n",
        "Gradient at\t0.75004, \t0.50004  \tis\t1.49997, \t0.99998  \n",
        "Gradient at\t0.00005, \t0.00005  \tis\t-0.00000, \t0.00000  \n",
        "Gradient at\t0.37504, \t0.25004  \tis\t0.74999, \t0.49999"
       ]
      },
      {
       "metadata": {},
       "output_type": "display_data",
       "text": [
        "... and so on ... (39 evaluations)"
       ]
      }
     ],
     "prompt_number": 8
    },
    {
     "cell_type": "markdown",
     "metadata": {},
     "source": [
      "That concludes the **Conjugate Gradient** notebook. We've derived the nonlinear conjugate gradient algorithm as well as a few simple line searches for it, and then implemented it in our previously-discussed Gradient Descent typeclass heirarchy."
     ]
    }
   ],
   "metadata": {}
  }
 ]
}