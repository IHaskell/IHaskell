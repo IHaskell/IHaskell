{
 "metadata": {
  "language": "haskell",
  "name": ""
 },
 "nbformat": 3,
 "nbformat_minor": 0,
 "worksheets": [
  {
   "cells": [
    {
     "cell_type": "code",
     "collapsed": false,
     "input": [
      "-- First of all, we can evaluate simple expressions.\n",
      "3 + 5\n",
      "\"Hello, \" ++ \"World!\""
     ],
     "language": "python",
     "metadata": {},
     "outputs": [
      {
       "metadata": {},
       "output_type": "display_data",
       "text": [
        "8"
       ]
      },
      {
       "metadata": {},
       "output_type": "display_data",
       "text": [
        "\"Hello, World!\""
       ]
      }
     ],
     "prompt_number": 1
    },
    {
     "cell_type": "code",
     "collapsed": false,
     "input": [
      "-- Unlike in GHCi, we can have multi-line expressions.\n",
      "concat [\n",
      "  \"Hello,\",\n",
      "  \", \",\n",
      "  \"World!\"\n",
      "  ] :: String\n",
      "  \n",
      "-- We can also have normal Haskell declarations, without `let`.\n",
      "-- As long as you group type signatures and declarations together,\n",
      "-- you can use pattern matching and add type signatures.\n",
      "thing :: String -> Int -> Int\n",
      "thing \"no\" _ = 100\n",
      "thing str int = int + length str\n",
      "\n",
      "thing \"no\" 10\n",
      "thing \"ah\" 10"
     ],
     "language": "python",
     "metadata": {},
     "outputs": [
      {
       "metadata": {},
       "output_type": "display_data",
       "text": [
        "\"Hello,, World!\""
       ]
      },
      {
       "metadata": {},
       "output_type": "display_data",
       "text": [
        "100"
       ]
      },
      {
       "metadata": {},
       "output_type": "display_data",
       "text": [
        "12"
       ]
      }
     ],
     "prompt_number": 2
    },
    {
     "cell_type": "code",
     "collapsed": false,
     "input": [
      "-- We can also do IO.\n",
      "print \"What's going on?\""
     ],
     "language": "python",
     "metadata": {},
     "outputs": [
      {
       "metadata": {},
       "output_type": "display_data",
       "text": [
        "\"What's going on?\""
       ]
      }
     ],
     "prompt_number": 3
    },
    {
     "cell_type": "code",
     "collapsed": false,
     "input": [
      "-- We can disable extensions.\n",
      ":ext NoEmptyDataDecls\n",
      "data Thing"
     ],
     "language": "python",
     "metadata": {},
     "outputs": [
      {
       "html": [
        "<span style='color: red; font-style: italic;'>`Thing' has no constructors<br/>  (-XEmptyDataDecls permits this)</span>"
       ],
       "metadata": {},
       "output_type": "display_data",
       "text": [
        "`Thing' has no constructors\n",
        "  (-XEmptyDataDecls permits this)"
       ]
      }
     ],
     "prompt_number": 4
    },
    {
     "cell_type": "code",
     "collapsed": false,
     "input": [
      "-- And enable extensions.\n",
      ":ext EmptyDataDecls\n",
      "data Thing"
     ],
     "language": "python",
     "metadata": {},
     "outputs": [],
     "prompt_number": 5
    },
    {
     "cell_type": "code",
     "collapsed": false,
     "input": [
      "-- Various data declarations work fine.\n",
      "data One\n",
      "     = A String\n",
      "     | B Int\n",
      "     deriving Show\n",
      "\n",
      "print [A \"Hello\", B 10]"
     ],
     "language": "python",
     "metadata": {},
     "outputs": [
      {
       "metadata": {},
       "output_type": "display_data",
       "text": [
        "[A \"Hello\",B 10]"
       ]
      }
     ],
     "prompt_number": 6
    },
    {
     "cell_type": "code",
     "collapsed": false,
     "input": [
      "-- We can look at types like in GHCi.\n",
      ":ty 3 + 3"
     ],
     "language": "python",
     "metadata": {},
     "outputs": [
      {
       "html": [
        "<span style='font-weight: bold; color: green;'>forall a. Num a => a</span>"
       ],
       "metadata": {},
       "output_type": "display_data",
       "text": [
        "forall a. Num a => a"
       ]
      }
     ],
     "prompt_number": 7
    },
    {
     "cell_type": "code",
     "collapsed": false,
     "input": [
      "-- And we can inspect info of things!\n",
      ":info Integral"
     ],
     "language": "python",
     "metadata": {},
     "outputs": [
      {
       "metadata": {},
       "output_type": "display_data",
       "text": [
        "class (Real a, Enum a) => Integral a where\n",
        "  quot :: a -> a -> a\n",
        "  rem :: a -> a -> a\n",
        "  div :: a -> a -> a\n",
        "  mod :: a -> a -> a\n",
        "  quotRem :: a -> a -> (a, a)\n",
        "  divMod :: a -> a -> (a, a)\n",
        "  toInteger :: a -> Integer\n",
        "  \t-- Defined in `GHC.Real'\n",
        "instance Integral Integer -- Defined in `GHC.Real'\n",
        "instance Integral Int -- Defined in `GHC.Real'"
       ]
      }
     ],
     "prompt_number": 8
    },
    {
     "cell_type": "code",
     "collapsed": false,
     "input": [
      "-- Results are printed as we go, even from a single expression.\n",
      "import Control.Monad\n",
      "import Control.Concurrent\n",
      "\n",
      "forM_ [1..5] $ \\x -> do\n",
      "  print x\n",
      "  threadDelay $ 100 * 1000"
     ],
     "language": "python",
     "metadata": {},
     "outputs": [
      {
       "metadata": {},
       "output_type": "display_data",
       "text": [
        "1\n",
        "2\n",
        "3\n",
        "4\n",
        "5"
       ]
      }
     ],
     "prompt_number": 9
    },
    {
     "cell_type": "code",
     "collapsed": false,
     "input": [
      "-- We can display Maybes fancily for Show-able types.\n",
      "Just ()\n",
      "Nothing\n",
      "\n",
      "-- But it dies if it's not showable.\n",
      "data NoShow = X Int\n",
      "Just (X 3)"
     ],
     "language": "python",
     "metadata": {},
     "outputs": [
      {
       "html": [
        "<span style='color: green; font-weight: bold;'>Just</span><span style='font-family: monospace;'>()</span>"
       ],
       "metadata": {},
       "output_type": "display_data",
       "text": [
        "Just ()"
       ]
      },
      {
       "html": [
        "<span style='color: red; font-weight: bold;'>Nothing</span>"
       ],
       "metadata": {},
       "output_type": "display_data",
       "text": [
        "Nothing"
       ]
      },
      {
       "html": [
        "<span style='color: red; font-style: italic;'>No instance for (Show NoShow)<br/>  arising from a use of `print'<br/>Possible fix:<br/>  add an instance declaration for (Show NoShow)</span>"
       ],
       "metadata": {},
       "output_type": "display_data",
       "text": [
        "No instance for (Show NoShow)\n",
        "  arising from a use of `print'\n",
        "Possible fix:\n",
        "  add an instance declaration for (Show NoShow)"
       ]
      }
     ],
     "prompt_number": 10
    },
    {
     "cell_type": "code",
     "collapsed": false,
     "input": [
      "-- Aeson JSON data types are displayed nicely.\n",
      ":ext OverloadedStrings\n",
      "\n",
      "import Data.Aeson\n",
      "\n",
      "data Coord  = Coord { x :: Double, y :: Double }\n",
      "instance ToJSON Coord where\n",
      "   toJSON (Coord x y) = object [\"x\" .= x, \"y\" .= y]\n",
      "\n",
      "Null\n",
      "Bool True\n",
      "toJSON (Coord 3 2)"
     ],
     "language": "python",
     "metadata": {},
     "outputs": [
      {
       "html": [
        "<div class=\"highlight-code\" id=\"javascript\">null</div>"
       ],
       "metadata": {},
       "output_type": "display_data",
       "text": [
        "null"
       ]
      },
      {
       "html": [
        "<div class=\"highlight-code\" id=\"javascript\">true</div>"
       ],
       "metadata": {},
       "output_type": "display_data",
       "text": [
        "true"
       ]
      },
      {
       "html": [
        "<div class=\"highlight-code\" id=\"javascript\">{\n",
        "    \"x\": 3.0,\n",
        "    \"y\": 2.0\n",
        "}</div>"
       ],
       "metadata": {},
       "output_type": "display_data",
       "text": [
        "{\n",
        "    \"x\": 3.0,\n",
        "    \"y\": 2.0\n",
        "}"
       ]
      }
     ],
     "prompt_number": 11
    },
    {
     "cell_type": "code",
     "collapsed": false,
     "input": [
      "-- Small bits of HTML generated via Blaze are displayed.\n",
      "import Prelude hiding (div, id)\n",
      "import Text.Blaze.Html4.Strict hiding (map, style)\n",
      "import Text.Blaze.Html4.Strict.Attributes\n",
      "\n",
      "div ! style \"color: red\" $ do\n",
      "    p \"This is an example of BlazeMarkup syntax.\"\n",
      "    b \"Hello\"\n",
      "    \n",
      "forM [1..5] $ \\size -> do\n",
      "  let s = toValue $ size * 80\n",
      "  img ! src \"/static/base/images/ipynblogo.png\" ! width s"
     ],
     "language": "python",
     "metadata": {},
     "outputs": [
      {
       "html": [
        "<div style=\"color: red\">\n",
        "    <p>\n",
        "        This is an example of BlazeMarkup syntax.\n",
        "    </p>\n",
        "    <b>\n",
        "        Hello\n",
        "    </b>\n",
        "</div>\n"
       ],
       "metadata": {},
       "output_type": "display_data",
       "text": [
        "<div style=\"color: red\">\n",
        "    <p>\n",
        "        This is an example of BlazeMarkup syntax.\n",
        "    </p>\n",
        "    <b>\n",
        "        Hello\n",
        "    </b>\n",
        "</div>"
       ]
      },
      {
       "html": [
        "<img src=\"/static/base/images/ipynblogo.png\" width=\"80\">\n",
        "<img src=\"/static/base/images/ipynblogo.png\" width=\"160\">\n",
        "<img src=\"/static/base/images/ipynblogo.png\" width=\"240\">\n",
        "<img src=\"/static/base/images/ipynblogo.png\" width=\"320\">\n",
        "<img src=\"/static/base/images/ipynblogo.png\" width=\"400\">\n"
       ],
       "metadata": {},
       "output_type": "display_data",
       "text": [
        "<img src=\"/static/base/images/ipynblogo.png\" width=\"80\">\n",
        "<img src=\"/static/base/images/ipynblogo.png\" width=\"160\">\n",
        "<img src=\"/static/base/images/ipynblogo.png\" width=\"240\">\n",
        "<img src=\"/static/base/images/ipynblogo.png\" width=\"320\">\n",
        "<img src=\"/static/base/images/ipynblogo.png\" width=\"400\">"
       ]
      }
     ],
     "prompt_number": 12
    },
    {
     "cell_type": "code",
     "collapsed": false,
     "input": [
      "-- We can draw diagrams, right in the notebook.\n",
      ":extension NoMonomorphismRestriction\n",
      "import Diagrams.Prelude\n",
      "\n",
      "-- By Brent Yorgey\n",
      "-- Draw a Sierpinski triangle!\n",
      "sierpinski 1 = eqTriangle 1\n",
      "sierpinski n =     s\n",
      "                  ===\n",
      "               (s ||| s) # centerX\n",
      "  where s = sierpinski (n-1)\n",
      "\n",
      "-- The `diagram` function is used to display them in the notebook.\n",
      "diagram $ sierpinski 4\n",
      "            # centerXY\n",
      "            # fc black\n",
      "          `atop` square 10\n",
      "                   # fc white"
     ],
     "language": "python",
     "metadata": {},
     "outputs": [
      {
       "metadata": {},
       "output_type": "display_data",
       "png": "[encoded data removed]"
      }
     ],
     "prompt_number": 13
    },
    {
     "cell_type": "code",
     "collapsed": false,
     "input": [
      "-- We can draw small charts in the notebook.\n",
      "-- This example is taken from the haskell-chart documentation.\n",
      "import Graphics.Rendering.Chart \n",
      "import Data.Default.Class\n",
      "import Control.Lens\n",
      "\n",
      "let values = [\n",
      "     (\"Mexico City\"  , 19.2, 0),\n",
      "     (\"Mumbai\"       , 12.9, 10), \n",
      "     (\"Sydney\"       , 4.3,  0),\n",
      "     (\"London\"       , 8.3,  0), \n",
      "     (\"New York\"     , 8.2,  25)]\n",
      "     \n",
      "pitem (s, v, o) = pitem_value .~ v\n",
      "                $ pitem_label .~ s\n",
      "                $ pitem_offset .~ o\n",
      "                $ def  \n",
      "\n",
      "-- Convert to a renderable in order to display it.\n",
      "toRenderable \n",
      "  $ pie_title .~ \"Relative Population\"\n",
      "  $ pie_plot . pie_data .~ map pitem values\n",
      "  $ def"
     ],
     "language": "python",
     "metadata": {},
     "outputs": [
      {
       "metadata": {},
       "output_type": "display_data",
       "png": "[encoded data removed]"
      }
     ],
     "prompt_number": 14
    },
    {
     "cell_type": "code",
     "collapsed": false,
     "input": [
      "-- There is also hlint integration enabled by default.\n",
      "-- If you write sketchy code, it will tell you:\n",
      "f :: Int -> Int\n",
      "f x = x + 1\n",
      "\n",
      "-- Most warnings are orange...\n",
      "f $ 3\n",
      "\n",
      "-- But more severe warnings are red.\n",
      "putStrLn (show 3)\n",
      "do\n",
      "  return 3"
     ],
     "language": "python",
     "metadata": {},
     "outputs": [
      {
       "html": [
        " <table class=\"suggestion-table\"> <tr class=\"suggestion-row\"> <td class=\"suggestion-cell\"> <div class=\"suggestion-name\"> Redundant $</div> </td> </tr>  <tr class=\"suggestion-row\"> <td class=\"suggestion-cell\"> <div class=\"suggestion-warning\">Found:</div>  <div class=\"highlight-code\" id=\"haskell\">  f $ 3\n",
        "</div> </td>  <td class=\"suggestion-cell\"> <div class=\"suggestion-warning\">Why Not:</div>  <div class=\"highlight-code\" id=\"haskell\">  f 3\n",
        "</div> </td> </tr>  <tr class=\"suggestion-row\"> <td class=\"suggestion-cell\"> <div class=\"suggestion-name\"> Use print</div> </td> </tr>  <tr class=\"suggestion-row\"> <td class=\"suggestion-cell\"> <div class=\"suggestion-error\">Found:</div>  <div class=\"highlight-code\" id=\"haskell\">  putStrLn (show 3)\n",
        "</div> </td>  <td class=\"suggestion-cell\"> <div class=\"suggestion-error\">Why Not:</div>  <div class=\"highlight-code\" id=\"haskell\">  print 3\n",
        "</div> </td> </tr>  <tr class=\"suggestion-row\"> <td class=\"suggestion-cell\"> <div class=\"suggestion-name\"> Redundant do</div> </td> </tr>  <tr class=\"suggestion-row\"> <td class=\"suggestion-cell\"> <div class=\"suggestion-error\">Found:</div>  <div class=\"highlight-code\" id=\"haskell\">  do return 3\n",
        "</div> </td>  <td class=\"suggestion-cell\"> <div class=\"suggestion-error\">Why Not:</div>  <div class=\"highlight-code\" id=\"haskell\">  return 3\n",
        "</div> </td> </tr> </table> "
       ],
       "metadata": {},
       "output_type": "display_data",
       "text": [
        "Line 3:  Redundant $\n",
        "Found:\n",
        "  f $ 3\n",
        "\n",
        "Why not:\n",
        "  f 3\n",
        "Line 4:  Use print\n",
        "Found:\n",
        "  putStrLn (show 3)\n",
        "\n",
        "Why not:\n",
        "  print 3\n",
        "Line 5:  Redundant do\n",
        "Found:\n",
        "  do return 3\n",
        "\n",
        "Why not:\n",
        "  return 3"
       ]
      },
      {
       "metadata": {},
       "output_type": "display_data",
       "text": [
        "4"
       ]
      },
      {
       "metadata": {},
       "output_type": "display_data",
       "text": [
        "3"
       ]
      },
      {
       "metadata": {},
       "output_type": "display_data",
       "text": [
        "3"
       ]
      }
     ],
     "prompt_number": 15
    },
    {
     "cell_type": "code",
     "collapsed": false,
     "input": [
      "-- If hlint annoys you, though, you can turn it off.\n",
      "-- Note that this only takes effect in the next cell execution.\n",
      ":hlint off"
     ],
     "language": "python",
     "metadata": {},
     "outputs": [],
     "prompt_number": 16
    },
    {
     "cell_type": "code",
     "collapsed": false,
     "input": [
      "-- You could similarly use `:hlint on` to turn it back on.\n",
      "f $ 3"
     ],
     "language": "python",
     "metadata": {},
     "outputs": [
      {
       "metadata": {},
       "output_type": "display_data",
       "text": [
        "4"
       ]
      }
     ],
     "prompt_number": 17
    },
    {
     "cell_type": "code",
     "collapsed": false,
     "input": [
      "-- If your code isn't running fast enough, you can just put it into a module.\n",
      "module A.B where\n",
      "\n",
      "fib 0 = 1\n",
      "fib 1 = 1\n",
      "fib n = fib (n-1) + fib (n-2)"
     ],
     "language": "python",
     "metadata": {},
     "outputs": [],
     "prompt_number": 18
    },
    {
     "cell_type": "code",
     "collapsed": false,
     "input": [
      "-- The module is automatically imported unqualified.\n",
      "-- Note that since a new module is imported, all previous\n",
      "-- bound identifiers are now unbound.\n",
      "print $ A.B.fib 20\n",
      "print $ fib 20"
     ],
     "language": "python",
     "metadata": {},
     "outputs": [
      {
       "metadata": {},
       "output_type": "display_data",
       "text": [
        "10946"
       ]
      },
      {
       "metadata": {},
       "output_type": "display_data",
       "text": [
        "10946"
       ]
      }
     ],
     "prompt_number": 19
    },
    {
     "cell_type": "code",
     "collapsed": false,
     "input": [
      "-- But if you re-import it qualified, the previous import goes away.\n",
      "import qualified A.B as Fib\n",
      "\n",
      "Fib.fib 20\n",
      "fib 20"
     ],
     "language": "python",
     "metadata": {},
     "outputs": [
      {
       "metadata": {},
       "output_type": "display_data",
       "text": [
        "10946"
       ]
      },
      {
       "html": [
        "<span style='color: red; font-style: italic;'>Not in scope: `fib'<br/>Perhaps you meant `Fib.fib' (imported from A.B)</span>"
       ],
       "metadata": {},
       "output_type": "display_data",
       "text": [
        "Not in scope: `fib'\n",
        "Perhaps you meant `Fib.fib' (imported from A.B)"
       ]
      }
     ],
     "prompt_number": 20
    },
    {
     "cell_type": "markdown",
     "metadata": {},
     "source": [
      "Thanks!\n",
      "---\n",
      "\n",
      "I hope you've enjoyed this little demo of **IHaskell**!\n",
      "\n",
      "All of this is running using [IPython notebook][http://ipython.org], communicating asynchronously with a language evaluator kernel written in pure Haskell. \n",
      "\n",
      "In addition to code cells, you can also type Markdown, and have it be displayed as HTML - just like I'm doing with this cell.\n",
      "\n",
      "I hope you find IHaskell useful, and please report any bugs or features requests [on Github](https://github.com/gibiansky/IHaskell/issues). If you have any comments, want to contribute, or just want to get in touch, don't hesitate to contact me at Andrew dot Gibiansky at Gmail."
     ]
    }
   ],
   "metadata": {}
  }
 ]
}